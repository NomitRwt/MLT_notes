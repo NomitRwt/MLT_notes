{
  "cells": [
    {
      "cell_type": "markdown",
      "metadata": {},
      "source": [
        "---\n",
        "title: \"Week 4: EM Algorithm\"\n",
        "author: \"A Aniruddha\"\n",
        "format:\n",
        "  html:\n",
        "    theme: theme.scss\n",
        "    toc: true\n",
        "    html-math-method: katex\n",
        "---\n",
        "\n",
        "Colab Link: [Click here!](https://drive.google.com/file/d/17KFg_30CMnFVRhRcx1CrWFGBfhbCaNNd/view?usp=sharing){target=\"_blank\"}"
      ]
    },
    {
      "cell_type": "code",
      "execution_count": null,
      "metadata": {
        "id": "cCM22ZQd_gI4"
      },
      "outputs": [],
      "source": [
        "import numpy as np\n",
        "import pandas as pd"
      ]
    },
    {
      "cell_type": "code",
      "execution_count": null,
      "metadata": {
        "colab": {
          "base_uri": "https://localhost:8080/",
          "height": 36
        },
        "id": "6kOW7cpwdJsb",
        "outputId": "7efd0276-3695-4dcb-9f2b-328a58746eee"
      },
      "outputs": [
        {
          "data": {
            "application/vnd.google.colaboratory.intrinsic+json": {
              "type": "string"
            },
            "text/plain": [
              "'%.5f'"
            ]
          },
          "execution_count": 2,
          "metadata": {},
          "output_type": "execute_result"
        }
      ],
      "source": [
        "pd.options.display.float_format = '{:.5f}'.format\n",
        "\n",
        "%precision 5"
      ]
    },
    {
      "cell_type": "markdown",
      "metadata": {
        "id": "2sOJOtQJJprC"
      },
      "source": [
        "Consider the following one-dimensional dataset:<br>\n",
        "$$\n",
        "X\\ =\\ \\begin{bmatrix}\n",
        "-1.5 & -1 & -0.5 & 0.5 & 1 & 1.5\n",
        "\\end{bmatrix}$$"
      ]
    },
    {
      "cell_type": "code",
      "execution_count": null,
      "metadata": {
        "id": "AbjYEZHCA2p4"
      },
      "outputs": [],
      "source": [
        "X = np.array([(-1.5),(-1),(-0.5),(0.5),(1),(1.5)])"
      ]
    },
    {
      "cell_type": "markdown",
      "metadata": {
        "id": "W9zl6r4OTt50"
      },
      "source": [
        "E.M Algorithm\n",
        "<br>\n",
        "Initialize $\\displaystyle \\theta ^{0}$ = $\\displaystyle \\left\\{\\begin{matrix}\n",
        "\\mu _{1}^{0} , & \\dotsc  & ,\\mu _{k}^{0}\\\\\n",
        "\\sigma ^{2}{}_{1}^{0} , & \\dotsc  & ,\\sigma ^{2}{}_{k}^{0}\\\\\n",
        "\\pi _{1}^{0} , & \\dotsc  & ,\\pi _{k}^{0}\n",
        "\\end{matrix}\\right\\}$\n",
        "</br>\n",
        "<br>\n",
        "Until Convergence $(||\\theta ^{t+1} -\\theta ^{t} ||\\leq \\epsilon )$, where $\\epsilon$ is the tolerance parameter, do the following:\n",
        "\n",
        "\\begin{align*}\n",
        "\\lambda ^{t+1} &=\\underset{\\lambda }{\\arg\\max}\\text{ modified\\_log} (\\theta ^{t} ,\\lambda ) \\quad \\rightarrow \\text{Expectation Step  } \\\\\n",
        "\\theta ^{t+1} &=\\underset{\\theta }{\\arg\\max}\\text{ modified\\_log} (\\theta ,\\lambda ^{t+1}) \\rightarrow \\text{Maximization Step }\n",
        "\\end{align*}\n"
      ]
    },
    {
      "cell_type": "markdown",
      "metadata": {
        "id": "iMZY7UQcKL3o"
      },
      "source": [
        "We can initialize $\\displaystyle \\theta ^{0}$ as,<br>\n",
        "$$\\displaystyle \\begin{aligned}\n",
        "\\mu _{1}^{0} \\  & =-0.667\\\\\n",
        "\\mu _{2}^{0} \\  & =\\ 0.667\\\\\n",
        "\\sigma ^{2}{}_{1}^{0} & =\\ 0.722\\\\\n",
        "\\sigma ^{2}{}_{2}^{0} & =\\ 0.722\\ \\\\\n",
        "\\pi _{1}^{0} & =\\ 0.5\\\\\n",
        "\\pi _{2}^{0} & =\\ 0.5\n",
        "\\end{aligned}$$\n"
      ]
    },
    {
      "cell_type": "code",
      "execution_count": null,
      "metadata": {
        "id": "VutwHt8v-DgS"
      },
      "outputs": [],
      "source": [
        "def init():\n",
        "    return np.array([-0.667,0.667, 0.722, 0.722, 0.5, 0.5])\n",
        "\n",
        "theta_0 = init()"
      ]
    },
    {
      "cell_type": "markdown",
      "metadata": {
        "id": "qhO9o-XaK8_J"
      },
      "source": [
        "In the E-step we calculate the values of $λ_{k}^{i}$\n",
        "<br></br>\n",
        "\\begin{align*}\n",
        "\\hat{\\lambda }{_{k}^{i}}^{MML} & =\\frac{\\left(\\frac{1}{\\sqrt{2\\pi } \\sigma _{k}} e^{\\frac{-(x_{i} -\\mu _{k} )^{2}}{2\\sigma _{k}^{2}}}\\right) *\\pi _{k}}{{\\displaystyle \\sum _{k=1}^{K}\\left(\\frac{1}{\\sqrt{2\\pi } \\sigma _{k}} e^{\\frac{-(x_{i} -\\mu _{k} )^{2}}{2\\sigma _{k}^{2}}} *\\pi _{k}\\right)}}\n",
        "\\end{align*}"
      ]
    },
    {
      "cell_type": "code",
      "execution_count": null,
      "metadata": {
        "id": "HdOY26rpG8GT"
      },
      "outputs": [],
      "source": [
        "def gaussian(x, mu, sigma):\n",
        "    den = np.sqrt(2 * np.pi) * sigma\n",
        "    num = np.exp(-(x - mu) ** 2 / (2 * sigma ** 2))\n",
        "    return num / den\n",
        "\n",
        "def estep(theta, X):\n",
        "    n = X.shape[0]\n",
        "    K = theta.shape[0] // 3\n",
        "    mu, sigma, pi = theta[: K],\\\n",
        "                       np.sqrt(theta[K: 2 * K]),\\\n",
        "                       theta[2 * K: ]\n",
        "    lamb = np.zeros((n, K))\n",
        "    for i in range(n):\n",
        "        x = X[i]\n",
        "        evidence = sum([pi[k] * gaussian(x, mu[k], sigma[k])\n",
        "                        for k in range(K)])\n",
        "        for k in range(K):\n",
        "            prior = pi[k]\n",
        "            likelihood = gaussian(x, mu[k], sigma[k])\n",
        "            lamb[i][k] = prior * likelihood / evidence\n",
        "    return lamb"
      ]
    },
    {
      "cell_type": "markdown",
      "metadata": {
        "id": "6eNTn93NLAyS"
      },
      "source": [
        "The closed form expressions for the parameters is given by,\n",
        "\\begin{aligned}\n",
        "\\hat{\\mu }_{k}^{MML} & =\\frac{{\\displaystyle \\sum _{i=1}^{n} \\lambda _{k}^{i} x_{i}}}{{\\displaystyle \\sum _{i=1}^{n} \\lambda _{k}^{i}}}\\\\\n",
        "\\widehat{\\sigma ^{2}}_{k}^{MML} & =\\frac{{\\displaystyle \\sum _{i=1}^{n} \\lambda _{k}^{i} (x_{i} -\\hat{\\mu }_{k}^{MML} )^{2}}}{{\\displaystyle \\sum _{i=1}^{n} \\lambda _{k}^{i}}}\\\\\n",
        "\\hat{\\pi }_{k}^{MML} & =\\frac{{\\displaystyle \\sum _{i=1}^{n} \\lambda _{k}^{i}}}{n}\n",
        "\\end{aligned}"
      ]
    },
    {
      "cell_type": "code",
      "execution_count": null,
      "metadata": {
        "id": "RkLjRl9eG7-o"
      },
      "outputs": [],
      "source": [
        "def mstep(lamb, X):\n",
        "    n, K = lamb.shape\n",
        "    mu = np.zeros(K)\n",
        "    var = np.zeros(K)\n",
        "    pi = np.zeros(K)\n",
        "    for k in range(K):\n",
        "        mu[k] = (X * lamb[:, k]).sum() / lamb[:, k].sum()\n",
        "        var[k] = (((X - mu[k]) ** 2) * lamb[:, k]).sum() / lamb[:, k].sum()\n",
        "        pi[k] = lamb[:, k].sum() / n\n",
        "    return np.concatenate([mu, var, pi])"
      ]
    },
    {
      "cell_type": "markdown",
      "metadata": {
        "id": "5J4R8YudLIg-"
      },
      "source": [
        "We will repeat the above two steps until the given convergence criteria is satisfied,<br>\n",
        "$$(||\\theta ^{t+1} -\\theta ^{t} ||\\leq \\epsilon )$$\n",
        "<br>\n",
        "For the given example we shall perform these steps for 8 iterations. After 8 iterations the change in values in negligible."
      ]
    },
    {
      "cell_type": "code",
      "execution_count": null,
      "metadata": {
        "colab": {
          "base_uri": "https://localhost:8080/"
        },
        "id": "wqxlyOFOG77g",
        "outputId": "c7134e6e-4b8b-422a-baea-0482adacafa0"
      },
      "outputs": [
        {
          "name": "stdout",
          "output_type": "stream",
          "text": [
            "\n",
            "lambda-1:\n",
            "        1       2       3       4       5       6\n",
            "1 0.94111 0.86385 0.71582 0.28418 0.13615 0.05889\n",
            "2 0.05889 0.13615 0.28418 0.71582 0.86385 0.94111\n",
            "\n",
            "theta-1: [-0.75562  0.75562  0.5957   0.5957   0.5      0.5    ]\n",
            "\n",
            "norm(theta_k - theta_k-1): 0.2182\n",
            "----------------------------------------------------------------------\n",
            "\n",
            "lambda-2:\n",
            "        1       2       3       4       5       6\n",
            "1 0.97823 0.92669 0.78048 0.21952 0.07331 0.02177\n",
            "2 0.02177 0.07331 0.21952 0.78048 0.92669 0.97823\n",
            "\n",
            "theta-2: [-0.85619  0.85619  0.43361  0.43361  0.5      0.5    ]\n",
            "\n",
            "norm(theta_k - theta_k-1): 0.26976\n",
            "----------------------------------------------------------------------\n",
            "\n",
            "lambda-3:\n",
            "        1       2       3       4       5       6\n",
            "1 0.99733 0.98109 0.87810 0.12190 0.01891 0.00267\n",
            "2 0.00267 0.01891 0.12190 0.87810 0.98109 0.99733\n",
            "\n",
            "theta-3: [-0.94409  0.94409  0.27536  0.27536  0.5      0.5    ]\n",
            "\n",
            "norm(theta_k - theta_k-1): 0.25602\n",
            "----------------------------------------------------------------------\n",
            "\n",
            "lambda-4:\n",
            "        1       2       3       4       5       6\n",
            "1 0.99997 0.99895 0.96859 0.03141 0.00105 0.00003\n",
            "2 0.00003 0.00105 0.03141 0.96859 0.99895 0.99997\n",
            "\n",
            "theta-4: [-0.98879  0.98879  0.18895  0.18895  0.5      0.5    ]\n",
            "\n",
            "norm(theta_k - theta_k-1): 0.13758\n",
            "----------------------------------------------------------------------\n",
            "\n",
            "lambda-5:\n",
            "        1       2       3       4       5       6\n",
            "1 1.00000 0.99997 0.99469 0.00531 0.00003 0.00000\n",
            "2 0.00000 0.00003 0.00531 0.99469 0.99997 1.00000\n",
            "\n",
            "theta-5: [-0.99821  0.99821  0.17024  0.17024  0.5      0.5    ]\n",
            "\n",
            "norm(theta_k - theta_k-1): 0.02962\n",
            "----------------------------------------------------------------------\n",
            "\n",
            "lambda-6:\n",
            "        1       2       3       4       5       6\n",
            "1 1.00000 0.99999 0.99717 0.00283 0.00001 0.00000\n",
            "2 0.00000 0.00001 0.00283 0.99717 0.99999 1.00000\n",
            "\n",
            "theta-6: [-0.99905  0.99905  0.16857  0.16857  0.5      0.5    ]\n",
            "\n",
            "norm(theta_k - theta_k-1): 0.00265\n",
            "----------------------------------------------------------------------\n",
            "\n",
            "lambda-7:\n",
            "        1       2       3       4       5       6\n",
            "1 1.00000 0.99999 0.99734 0.00266 0.00001 0.00000\n",
            "2 0.00000 0.00001 0.00266 0.99734 0.99999 1.00000\n",
            "\n",
            "theta-7: [-0.99911  0.99911  0.16845  0.16845  0.5      0.5    ]\n",
            "\n",
            "norm(theta_k - theta_k-1): 0.00018\n",
            "----------------------------------------------------------------------\n",
            "\n",
            "lambda-8:\n",
            "        1       2       3       4       5       6\n",
            "1 1.00000 0.99999 0.99735 0.00265 0.00001 0.00000\n",
            "2 0.00000 0.00001 0.00265 0.99735 0.99999 1.00000\n",
            "\n",
            "theta-8: [-0.99911  0.99911  0.16844  0.16844  0.5      0.5    ]\n",
            "\n",
            "norm(theta_k - theta_k-1): 1e-05\n",
            "----------------------------------------------------------------------\n"
          ]
        }
      ],
      "source": [
        "theta_k = theta_0\n",
        "theta_k_1 = np.zeros(6)\n",
        "\n",
        "for k in range(8):\n",
        "  lamb_k = estep(theta_k, X)\n",
        "  theta_k_1 = theta_k\n",
        "  theta_k = mstep(lamb_k, X)\n",
        "  print(\"\\nlambda-\"+str(k+1)+\":\")\n",
        "  print(pd.DataFrame(data=lamb_k.T,columns=[1,2,3,4,5,6],index=[1,2]))\n",
        "  print(\"\\ntheta-\"+str(k+1)+\": \"+str(theta_k))\n",
        "  print(\"\\nnorm(theta_k - theta_k-1): \"+str(np.round(np.linalg.norm(theta_k - theta_k_1),5)))\n",
        "  print('-' * 70)"
      ]
    }
  ],
  "metadata": {
    "colab": {
      "provenance": []
    },
    "kernelspec": {
      "display_name": "Python 3",
      "name": "python3"
    },
    "language_info": {
      "name": "python"
    }
  },
  "nbformat": 4,
  "nbformat_minor": 0
}
